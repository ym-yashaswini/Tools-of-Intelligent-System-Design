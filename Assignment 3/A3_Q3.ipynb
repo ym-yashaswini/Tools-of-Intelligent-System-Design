{
  "nbformat": 4,
  "nbformat_minor": 0,
  "metadata": {
    "colab": {
      "name": "A3_Q3.ipynb",
      "provenance": [],
      "collapsed_sections": []
    },
    "kernelspec": {
      "name": "python3",
      "display_name": "Python 3"
    },
    "language_info": {
      "name": "python"
    }
  },
  "cells": [
    {
      "cell_type": "markdown",
      "metadata": {
        "id": "qW1O2SpjOSaV"
      },
      "source": [
        "Problem 3: Sentiment Analysis\n",
        "The IMDB large movie review dataset has many positive and negative reviews on movies. Download the dataset here (http://ai.stanford.edu/~amaas/data/sentiment/). Check the README file as it provides a description of the dataset. Use the provided training and testing data for your network. You would need to go through data preprocessing to prepare the data for NLP. Then, create a network to classify the review as positive or negative.\n",
        "\n",
        "All choices are up to you and many resources exist online to help you make good design choices. While you can check online resources, you should not copy other’s code! Using a pretrained network or training a network that already exists is not allowed. Any act of plagiarism will be escalated. Make sure you understand and support any preprocessing steps and design decisions in your report."
      ]
    },
    {
      "cell_type": "code",
      "metadata": {
        "id": "cvf9sriaOSaW"
      },
      "source": [
        "# Importing Libraries\n",
        "from tensorflow.keras.utils import get_file\n",
        "import tarfile\n",
        "from glob import glob\n",
        "import os,re,string\n",
        "import numpy as np\n",
        "import tensorflow as tf\n",
        "from tensorflow import keras\n",
        "from sklearn.model_selection import train_test_split\n",
        "import matplotlib.pyplot as plt"
      ],
      "execution_count": 3,
      "outputs": []
    },
    {
      "cell_type": "code",
      "metadata": {
        "id": "qY4Zqu1cOSaX"
      },
      "source": [
        "# Plotting Loss\n",
        "def plot_loss(history):\n",
        "  plt.plot(history.history['val_loss'],label=\"val loss\")\n",
        "  plt.plot(history.history['loss'],label=\"train loss\")\n",
        "  plt.xlabel('epoch')\n",
        "  plt.ylabel('loss')\n",
        "\n",
        "  plt.legend()\n",
        "  plt.show()\n",
        "\n",
        "# Plotting Accuracy\n",
        "def plot_accuracy(history):\n",
        "  plt.plot(history.history['val_acc'],label=\"val accuracy\")\n",
        "  plt.plot(history.history['acc'],label=\"train accuracy\")\n",
        "  plt.xlabel('epoch')\n",
        "  plt.ylabel('accuracy')\n",
        "\n",
        "  plt.legend()\n",
        "  plt.show()"
      ],
      "execution_count": 4,
      "outputs": []
    },
    {
      "cell_type": "code",
      "metadata": {
        "id": "rKr82UAjLQiW",
        "colab": {
          "base_uri": "https://localhost:8080/"
        },
        "outputId": "21dad0a5-1483-4dc4-af69-42414956d153"
      },
      "source": [
        "# Downloading Data\n",
        "data_dir = get_file('aclImdb_v1.tar.gz', 'http://ai.stanford.edu/~amaas/data/sentiment/aclImdb_v1.tar.gz', cache_subdir = \"datasets\",hash_algorithm = \"auto\", extract = True, archive_format = \"auto\")\n",
        "my_tar = tarfile.open(data_dir)\n",
        "my_tar.extractall('./data/') # specify which folder to extract to\n",
        "my_tar.close()"
      ],
      "execution_count": 5,
      "outputs": [
        {
          "output_type": "stream",
          "text": [
            "Downloading data from http://ai.stanford.edu/~amaas/data/sentiment/aclImdb_v1.tar.gz\n",
            "84131840/84125825 [==============================] - 2s 0us/step\n"
          ],
          "name": "stdout"
        }
      ]
    },
    {
      "cell_type": "code",
      "metadata": {
        "id": "806EmMutLXB5"
      },
      "source": [
        "# Extracting data from downloaded files\n",
        "from glob import glob\n",
        "import os,re,string\n",
        "import numpy as np\n",
        "PATH='./data/aclImdb/'\n",
        "names = ['neg','pos']\n",
        "\n",
        "def load_texts_labels_from_folders(path, folders):\n",
        "    texts,labels = [],[]\n",
        "    for idx,label in enumerate(folders):\n",
        "        for fname in glob(os.path.join(path, label, '*.*')):\n",
        "            texts.append(open(fname, 'r').read())\n",
        "            labels.append(idx)\n",
        "    \n",
        "    return texts, np.array(labels).astype(np.int64)\n",
        "\n",
        "x_train,y_train = load_texts_labels_from_folders(f'{PATH}train',names)\n",
        "x_test,y_test = load_texts_labels_from_folders(f'{PATH}test',names)"
      ],
      "execution_count": 6,
      "outputs": []
    },
    {
      "cell_type": "code",
      "metadata": {
        "id": "IKFKGTl9Laer"
      },
      "source": [
        "# Pre-processing of the data\n",
        "def preprocess_reviews(reviews):\n",
        "    tokens = re.compile(\"[.;:!#\\'?,\\\"()\\[\\]]|(<br\\s*/><br\\s*/>)|(\\-)|(\\/)\")\n",
        "    \n",
        "    return [tokens.sub(\"\", line.lower()) for line in reviews]\n",
        "\n",
        "x_train_clean = preprocess_reviews(x_train)\n",
        "x_test_clean = preprocess_reviews(x_test)"
      ],
      "execution_count": 7,
      "outputs": []
    },
    {
      "cell_type": "code",
      "metadata": {
        "colab": {
          "base_uri": "https://localhost:8080/",
          "height": 124
        },
        "id": "xFEFx6U0LiHg",
        "outputId": "8224eedb-ab60-40c2-df74-18faf1fc1ec9"
      },
      "source": [
        "# sample review\n",
        "x_train_clean[0]"
      ],
      "execution_count": 8,
      "outputs": [
        {
          "output_type": "execute_result",
          "data": {
            "application/vnd.google.colaboratory.intrinsic+json": {
              "type": "string"
            },
            "text/plain": [
              "'star rating ***** saturday night **** friday night *** friday morning ** sunday night * monday morning alice having defeated freddy at the end of the last film is now trying to readjust her life but her unborn child is carrying a demonous presence freddy trying to come out into their world againits interesting to note the directors who got their big breaks directing freddy films charles russell eraser the mask renny harlin the long kiss goodnight cutthroat island cliffhanger die hard 2 and here stephen hopkins lost in space predator 2 but while russell and harlin made a good job of it hopkins imo has made something of a podge with this entry that should be quickly forgottenthe story is clearly being stretched as far as it can go here with freddy ludicrously a father himself and the ridiculous looking demon baby even at about an hour and a half it all gets rather tiresome and of course not scary at allthe bon appetit bitch catchphrase is the only memorable point of this other wise very forgettable entry *'"
            ]
          },
          "metadata": {
            "tags": []
          },
          "execution_count": 8
        }
      ]
    },
    {
      "cell_type": "code",
      "metadata": {
        "id": "XUfBRNX5MDiw"
      },
      "source": [
        "# Tokeniser\n",
        "import tensorflow as tf\n",
        "from tensorflow import keras\n",
        "tok = keras.preprocessing.text.Tokenizer()\n",
        "tok.fit_on_texts(x_train_clean) \n",
        "X_train = tok.texts_to_sequences(x_train_clean)\n",
        "X_test = tok.texts_to_sequences(x_test_clean)"
      ],
      "execution_count": 9,
      "outputs": []
    },
    {
      "cell_type": "code",
      "metadata": {
        "id": "rDCJGo4hMJ-g"
      },
      "source": [
        "from sklearn.model_selection import train_test_split\n",
        "X_train = keras.preprocessing.sequence.pad_sequences(X_train,padding='post',maxlen=1000)\n",
        "X_test = keras.preprocessing.sequence.pad_sequences(X_test,padding='post',maxlen=1000)\n",
        "X_train, X_val, y_train, y_val = train_test_split(X_train, y_train, test_size=0.3, random_state=42)"
      ],
      "execution_count": 10,
      "outputs": []
    },
    {
      "cell_type": "code",
      "metadata": {
        "colab": {
          "base_uri": "https://localhost:8080/"
        },
        "id": "YamcZCbfMNVv",
        "outputId": "f960d1af-4a72-4652-daa3-b1ca2da28011"
      },
      "source": [
        "# Building Model\n",
        "# input shape is the vocabulary count used for the movie reviews (10,000 words)\n",
        "word_size = len(tok.word_index)+1\n",
        "\n",
        "model = keras.Sequential()\n",
        "model.add(keras.layers.Embedding(word_size, 16))\n",
        "model.add(keras.layers.Dropout(0.1))\n",
        "model.add(keras.layers.Conv1D(filters=16,kernel_size=2,padding='valid',activation='relu'))\n",
        "model.add(keras.layers.GlobalAveragePooling1D())\n",
        "model.add(keras.layers.Dropout(0.1))\n",
        "model.add(keras.layers.Dense(32, activation='relu'))\n",
        "model.add(keras.layers.Dropout(0.1))\n",
        "model.add(keras.layers.Dense(1, activation='sigmoid'))\n",
        "\n",
        "model.summary()"
      ],
      "execution_count": 11,
      "outputs": [
        {
          "output_type": "stream",
          "text": [
            "Model: \"sequential\"\n",
            "_________________________________________________________________\n",
            "Layer (type)                 Output Shape              Param #   \n",
            "=================================================================\n",
            "embedding (Embedding)        (None, None, 16)          2284368   \n",
            "_________________________________________________________________\n",
            "dropout (Dropout)            (None, None, 16)          0         \n",
            "_________________________________________________________________\n",
            "conv1d (Conv1D)              (None, None, 16)          528       \n",
            "_________________________________________________________________\n",
            "global_average_pooling1d (Gl (None, 16)                0         \n",
            "_________________________________________________________________\n",
            "dropout_1 (Dropout)          (None, 16)                0         \n",
            "_________________________________________________________________\n",
            "dense (Dense)                (None, 32)                544       \n",
            "_________________________________________________________________\n",
            "dropout_2 (Dropout)          (None, 32)                0         \n",
            "_________________________________________________________________\n",
            "dense_1 (Dense)              (None, 1)                 33        \n",
            "=================================================================\n",
            "Total params: 2,285,473\n",
            "Trainable params: 2,285,473\n",
            "Non-trainable params: 0\n",
            "_________________________________________________________________\n"
          ],
          "name": "stdout"
        }
      ]
    },
    {
      "cell_type": "code",
      "metadata": {
        "id": "pCIvwh7NMPTf"
      },
      "source": [
        "model.compile(optimizer='adam',loss='binary_crossentropy',metrics=['acc'])"
      ],
      "execution_count": 12,
      "outputs": []
    },
    {
      "cell_type": "code",
      "metadata": {
        "colab": {
          "base_uri": "https://localhost:8080/"
        },
        "id": "_c1HeQF2MS6d",
        "outputId": "2bc72430-8d38-4339-986c-3c13d1959fdc"
      },
      "source": [
        "history = model.fit(X_train,y_train,epochs=20,validation_data=(X_val, y_val),verbose=1,batch_size=512)"
      ],
      "execution_count": 13,
      "outputs": [
        {
          "output_type": "stream",
          "text": [
            "Epoch 1/20\n",
            "35/35 [==============================] - 11s 278ms/step - loss: 0.6931 - acc: 0.5018 - val_loss: 0.6929 - val_acc: 0.5399\n",
            "Epoch 2/20\n",
            "35/35 [==============================] - 10s 273ms/step - loss: 0.6926 - acc: 0.5278 - val_loss: 0.6917 - val_acc: 0.6228\n",
            "Epoch 3/20\n",
            "35/35 [==============================] - 10s 273ms/step - loss: 0.6893 - acc: 0.5649 - val_loss: 0.6836 - val_acc: 0.6679\n",
            "Epoch 4/20\n",
            "35/35 [==============================] - 10s 276ms/step - loss: 0.6730 - acc: 0.6611 - val_loss: 0.6559 - val_acc: 0.6977\n",
            "Epoch 5/20\n",
            "35/35 [==============================] - 10s 274ms/step - loss: 0.6296 - acc: 0.7326 - val_loss: 0.5970 - val_acc: 0.7781\n",
            "Epoch 6/20\n",
            "35/35 [==============================] - 10s 274ms/step - loss: 0.5543 - acc: 0.7930 - val_loss: 0.5180 - val_acc: 0.8215\n",
            "Epoch 7/20\n",
            "35/35 [==============================] - 10s 274ms/step - loss: 0.4738 - acc: 0.8255 - val_loss: 0.4452 - val_acc: 0.8489\n",
            "Epoch 8/20\n",
            "35/35 [==============================] - 10s 275ms/step - loss: 0.4095 - acc: 0.8482 - val_loss: 0.3960 - val_acc: 0.8567\n",
            "Epoch 9/20\n",
            "35/35 [==============================] - 10s 276ms/step - loss: 0.3575 - acc: 0.8702 - val_loss: 0.3650 - val_acc: 0.8596\n",
            "Epoch 10/20\n",
            "35/35 [==============================] - 10s 275ms/step - loss: 0.3196 - acc: 0.8825 - val_loss: 0.3426 - val_acc: 0.8699\n",
            "Epoch 11/20\n",
            "35/35 [==============================] - 10s 275ms/step - loss: 0.2912 - acc: 0.8914 - val_loss: 0.3268 - val_acc: 0.8727\n",
            "Epoch 12/20\n",
            "35/35 [==============================] - 10s 275ms/step - loss: 0.2632 - acc: 0.9010 - val_loss: 0.3200 - val_acc: 0.8715\n",
            "Epoch 13/20\n",
            "35/35 [==============================] - 10s 275ms/step - loss: 0.2410 - acc: 0.9097 - val_loss: 0.3098 - val_acc: 0.8757\n",
            "Epoch 14/20\n",
            "35/35 [==============================] - 10s 275ms/step - loss: 0.2225 - acc: 0.9194 - val_loss: 0.3043 - val_acc: 0.8800\n",
            "Epoch 15/20\n",
            "35/35 [==============================] - 10s 275ms/step - loss: 0.2067 - acc: 0.9286 - val_loss: 0.3014 - val_acc: 0.8809\n",
            "Epoch 16/20\n",
            "35/35 [==============================] - 10s 275ms/step - loss: 0.1888 - acc: 0.9329 - val_loss: 0.3010 - val_acc: 0.8768\n",
            "Epoch 17/20\n",
            "35/35 [==============================] - 10s 275ms/step - loss: 0.1793 - acc: 0.9384 - val_loss: 0.2981 - val_acc: 0.8817\n",
            "Epoch 18/20\n",
            "35/35 [==============================] - 10s 275ms/step - loss: 0.1597 - acc: 0.9453 - val_loss: 0.3002 - val_acc: 0.8768\n",
            "Epoch 19/20\n",
            "35/35 [==============================] - 10s 275ms/step - loss: 0.1540 - acc: 0.9483 - val_loss: 0.2985 - val_acc: 0.8809\n",
            "Epoch 20/20\n",
            "35/35 [==============================] - 10s 276ms/step - loss: 0.1418 - acc: 0.9539 - val_loss: 0.2973 - val_acc: 0.8815\n"
          ],
          "name": "stdout"
        }
      ]
    },
    {
      "cell_type": "code",
      "metadata": {
        "id": "Tb0hoLUqMxgY"
      },
      "source": [
        "model.save('./models/Group25_NLP_model.h5')"
      ],
      "execution_count": 16,
      "outputs": []
    },
    {
      "cell_type": "code",
      "metadata": {
        "id": "3s5HbV_ZMkEs"
      },
      "source": [
        "model=tf.keras.models.load_model('./models/Group25_NLP_model.h5')"
      ],
      "execution_count": 18,
      "outputs": []
    },
    {
      "cell_type": "code",
      "metadata": {
        "colab": {
          "base_uri": "https://localhost:8080/"
        },
        "id": "acyWnfeIMlmj",
        "outputId": "620969bc-4279-4558-c5da-3e76ad081eb6"
      },
      "source": [
        "scores = model.evaluate(X_test,y_test)\n",
        "test_accuracy = scores[1]\n",
        "print('accuracy on testing set:',test_accuracy*100)"
      ],
      "execution_count": 22,
      "outputs": [
        {
          "output_type": "stream",
          "text": [
            "782/782 [==============================] - 3s 4ms/step - loss: 0.3356 - acc: 0.8590\n",
            "accuracy on testing set: 85.9000027179718\n"
          ],
          "name": "stdout"
        }
      ]
    },
    {
      "cell_type": "code",
      "metadata": {
        "colab": {
          "base_uri": "https://localhost:8080/",
          "height": 279
        },
        "id": "JwHxQ9Q8MraP",
        "outputId": "881da18a-50c6-494c-c293-169516765a8d"
      },
      "source": [
        "plot_loss(history)"
      ],
      "execution_count": 20,
      "outputs": [
        {
          "output_type": "display_data",
          "data": {
            "image/png": "[encoded data removed]",
            "text/plain": [
              "<Figure size 432x288 with 1 Axes>"
            ]
          },
          "metadata": {
            "tags": [],
            "needs_background": "light"
          }
        }
      ]
    },
    {
      "cell_type": "code",
      "metadata": {
        "colab": {
          "base_uri": "https://localhost:8080/",
          "height": 279
        },
        "id": "gTd-aDdzMtqZ",
        "outputId": "3eac7d2c-af26-4115-e0a6-cb2dc65cfca8"
      },
      "source": [
        "plot_accuracy(history)"
      ],
      "execution_count": 21,
      "outputs": [
        {
          "output_type": "display_data",
          "data": {
            "image/png": "[encoded data removed]",
            "text/plain": [
              "<Figure size 432x288 with 1 Axes>"
            ]
          },
          "metadata": {
            "tags": [],
            "needs_background": "light"
          }
        }
      ]
    }
  ]
}